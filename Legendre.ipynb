{
 "cells": [
  {
   "cell_type": "markdown",
   "metadata": {},
   "source": [
    "# Polinômios de Legendre em Python\n"
   ]
  },
  {
   "cell_type": "markdown",
   "metadata": {},
   "source": [
    "## Descrição do Projeto\n",
    "\n",
    "Este é um projeto de Métodos Computacionais em Física que se baseia em solucionar os polinômios de Legendre usando a linguagem Python."
   ]
  },
  {
   "cell_type": "markdown",
   "metadata": {},
   "source": [
    "## Teoria\n",
    "\n",
    "Uma das variedades de funções especiais encontradas na solução de problemas físicos é a classe de funções chamada polinômios de Legendre. Em ciências físicas e matemáticas, os polinômios de Legendre são um sistema de polinômios completos e ortogonais, com um grande número de propriedades matemáticas e inúmeras aplicações. Eles podem ser definidos de várias maneiras, e as várias definições destacam aspectos diferentes, além de sugerir generalizações e conexões com diferentes estruturas matemáticas e aplicações físicas e numéricas.\n",
    "\n",
    "Entre as diversas definições temo a definição por construção como um sistema ortogonal, definição através da função geradora e definição através de equação diferencial."
   ]
  },
  {
   "cell_type": "markdown",
   "metadata": {},
   "source": [
    "## Aplicações\n",
    "\n",
    " - Expansão de potencial de 1/r;\n",
    " - Expansões multipolares;\n",
    " - Trigonometria;\n",
    " - Redes neurais recorrentes;\n",
    " - Mecânica Quântica.\n"
   ]
  },
  {
   "cell_type": "markdown",
   "metadata": {},
   "source": [
    "## Implementação\n",
    "\n",
    "Inica-se com a importação das bibliotecas a seguir:"
   ]
  },
  {
   "cell_type": "code",
   "execution_count": 1,
   "metadata": {},
   "outputs": [],
   "source": [
    "import matplotlib.pyplot as plt\n",
    "import pandas as pd\n",
    "import numpy as np"
   ]
  },
  {
   "cell_type": "markdown",
   "metadata": {},
   "source": [
    "Define-se aqui um tamanho padrão de imagem para o matplotlib"
   ]
  },
  {
   "cell_type": "code",
   "execution_count": 2,
   "metadata": {},
   "outputs": [],
   "source": [
    "%matplotlib inline\n",
    "%config InlineBackend.rc={'figure.figsize': (14, 9)}"
   ]
  },
  {
   "cell_type": "markdown",
   "metadata": {},
   "source": [
    "Em seguida, realiza-se a leitura dos valores de $x \\in [-1,1]$."
   ]
  },
  {
   "cell_type": "code",
   "execution_count": 3,
   "metadata": {},
   "outputs": [],
   "source": [
    "dados = pd.read_csv(\"dados.csv\")\n",
    "df = pd.DataFrame(dados)"
   ]
  },
  {
   "cell_type": "code",
   "execution_count": 4,
   "metadata": {},
   "outputs": [
    {
     "data": {
      "text/html": [
       "<div>\n",
       "<style scoped>\n",
       "    .dataframe tbody tr th:only-of-type {\n",
       "        vertical-align: middle;\n",
       "    }\n",
       "\n",
       "    .dataframe tbody tr th {\n",
       "        vertical-align: top;\n",
       "    }\n",
       "\n",
       "    .dataframe thead th {\n",
       "        text-align: right;\n",
       "    }\n",
       "</style>\n",
       "<table border=\"1\" class=\"dataframe\">\n",
       "  <thead>\n",
       "    <tr style=\"text-align: right;\">\n",
       "      <th></th>\n",
       "      <th>0</th>\n",
       "      <th>1</th>\n",
       "      <th>2</th>\n",
       "      <th>3</th>\n",
       "      <th>4</th>\n",
       "      <th>5</th>\n",
       "      <th>6</th>\n",
       "      <th>7</th>\n",
       "      <th>8</th>\n",
       "      <th>9</th>\n",
       "      <th>...</th>\n",
       "      <th>91</th>\n",
       "      <th>92</th>\n",
       "      <th>93</th>\n",
       "      <th>94</th>\n",
       "      <th>95</th>\n",
       "      <th>96</th>\n",
       "      <th>97</th>\n",
       "      <th>98</th>\n",
       "      <th>99</th>\n",
       "      <th>100</th>\n",
       "    </tr>\n",
       "  </thead>\n",
       "  <tbody>\n",
       "    <tr>\n",
       "      <th>x</th>\n",
       "      <td>-1.0</td>\n",
       "      <td>-0.98</td>\n",
       "      <td>-0.96</td>\n",
       "      <td>-0.94</td>\n",
       "      <td>-0.92</td>\n",
       "      <td>-0.9</td>\n",
       "      <td>-0.88</td>\n",
       "      <td>-0.86</td>\n",
       "      <td>-0.84</td>\n",
       "      <td>-0.82</td>\n",
       "      <td>...</td>\n",
       "      <td>0.82</td>\n",
       "      <td>0.84</td>\n",
       "      <td>0.86</td>\n",
       "      <td>0.88</td>\n",
       "      <td>0.9</td>\n",
       "      <td>0.92</td>\n",
       "      <td>0.94</td>\n",
       "      <td>0.96</td>\n",
       "      <td>0.98</td>\n",
       "      <td>1.0</td>\n",
       "    </tr>\n",
       "  </tbody>\n",
       "</table>\n",
       "<p>1 rows × 101 columns</p>\n",
       "</div>"
      ],
      "text/plain": [
       "   0     1     2     3     4    5     6     7     8     9    ...   91    92   \\\n",
       "x -1.0 -0.98 -0.96 -0.94 -0.92 -0.9 -0.88 -0.86 -0.84 -0.82  ...  0.82  0.84   \n",
       "\n",
       "    93    94   95    96    97    98    99   100  \n",
       "x  0.86  0.88  0.9  0.92  0.94  0.96  0.98  1.0  \n",
       "\n",
       "[1 rows x 101 columns]"
      ]
     },
     "execution_count": 4,
     "metadata": {},
     "output_type": "execute_result"
    }
   ],
   "source": [
    "df.T"
   ]
  },
  {
   "cell_type": "markdown",
   "metadata": {},
   "source": [
    "É possível calcular os valores dos seis primeiros polinômios de Legendre recursivamente utilizando a fórmula de Bonnet:\n",
    "\n",
    "$$(n+1)P_{n+1}(x) = (2n+1)xP_n(x) - n P_{n-1}$$\n",
    "\n",
    "Sabendo que $P_0(x) = 1$ e $P_1(x) = x$, pode-se definir a seguinte função em Python para realizar esse cálculo:"
   ]
  },
  {
   "cell_type": "code",
   "execution_count": 5,
   "metadata": {},
   "outputs": [],
   "source": [
    "def legendre(x,n):\n",
    "    if(n == 0):\n",
    "        return 1\n",
    "    elif(n == 1):\n",
    "        return x\n",
    "    else:\n",
    "        return ((2*n - 1)*x*legendre(x, n - 1) - (n - 1)*legendre(x, n - 2))/n"
   ]
  },
  {
   "cell_type": "markdown",
   "metadata": {},
   "source": [
    "Uma vez lidos os valores de $x$, pode-se visualizar os polinômios de Legendre calculando os valores de cada um deles por meio da função definida anteriormente e atribuindo os valores a arrays auxiliares."
   ]
  },
  {
   "cell_type": "code",
   "execution_count": 6,
   "metadata": {},
   "outputs": [],
   "source": [
    "#Arrays auxiliares\n",
    "c = [0, 1, 2, 3, 4, 5] #Ordens dos polinômios a serem calculados\n",
    "x = np.zeros((len(df['x']),len(c))) #array com os valores de x\n",
    "P = np.zeros((len(df['x']),len(c))) #array com os valores de P_n(x)"
   ]
  },
  {
   "cell_type": "code",
   "execution_count": 7,
   "metadata": {},
   "outputs": [],
   "source": [
    "#Array para corlorir as linhas\n",
    "colors = ['m', 'b', 'limegreen', 'lawngreen', 'g', 'c', 'r']\n",
    "colorsIndex = 0"
   ]
  },
  {
   "cell_type": "code",
   "execution_count": 8,
   "metadata": {},
   "outputs": [
    {
     "data": {
      "image/png": "[encoded data removed]",
      "text/plain": [
       "<Figure size 432x288 with 1 Axes>"
      ]
     },
     "metadata": {
      "needs_background": "light"
     },
     "output_type": "display_data"
    }
   ],
   "source": [
    "#Realizando o cálculo e o plot\n",
    "for n in c:\n",
    "    for i in np.arange(len(df['x'])):\n",
    "        P[i, n] = legendre(df['x'][i], n)\n",
    "        x[i, n] = df['x'][i]\n",
    "    plt.plot(x[:, n], P[:, n], colors[colorsIndex], label = '$P_{}(x)$'.format(n))\n",
    "    colorsIndex += 1\n",
    "    plt.grid(color = 'k',alpha=0.5 )\n",
    "plt.xlabel('$x$', fontsize = 10)\n",
    "plt.xticks(fontsize = 10)\n",
    "plt.yticks(fontsize = 10)\n",
    "plt.ylabel('$P_{n}(x)$', fontsize = 10)\n",
    "plt.title('$Polinômios\\ de\\ Legendre$', fontsize = 15)\n",
    "plt.legend(fancybox = True, shadow = True, fontsize = 10)\n",
    "plt.show()"
   ]
  },
  {
   "cell_type": "markdown",
   "metadata": {},
   "source": [
    "### Referências\n",
    "  1. https://en.wikipedia.org/wiki/Legendre_polynomials\n",
    "  2. https://encyclopediaofmath.org/wiki/Legendre_polynomials\n",
    "  3. http://hyperphysics.phy-astr.gsu.edu/hbase/Math/legend.html"
   ]
  }
 ],
 "metadata": {
  "kernelspec": {
   "display_name": "Python 3",
   "language": "python",
   "name": "python3"
  },
  "language_info": {
   "codemirror_mode": {
    "name": "ipython",
    "version": 3
   },
   "file_extension": ".py",
   "mimetype": "text/x-python",
   "name": "python",
   "nbconvert_exporter": "python",
   "pygments_lexer": "ipython3",
   "version": "3.8.2"
  }
 },
 "nbformat": 4,
 "nbformat_minor": 2
}
